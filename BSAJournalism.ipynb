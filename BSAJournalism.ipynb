{
 "cells": [
  {
   "cell_type": "markdown",
   "id": "f3df4b25",
   "metadata": {},
   "source": [
    "# BSA Data Journalism Spring 2024"
   ]
  },
  {
   "cell_type": "markdown",
   "id": "2f32788a",
   "metadata": {},
   "source": [
    "## Data scraping"
   ]
  },
  {
   "cell_type": "code",
   "execution_count": 216,
   "id": "621f9a83",
   "metadata": {},
   "outputs": [],
   "source": [
    "import pandas as pd\n",
    "import numpy as np\n",
    "from bs4 import BeautifulSoup\n",
    "import requests\n",
    "import time\n",
    "import os"
   ]
  },
  {
   "cell_type": "markdown",
   "id": "e40f634a",
   "metadata": {},
   "source": [
    "Defining start/end year and finding viable urls"
   ]
  },
  {
   "cell_type": "code",
   "execution_count": 217,
   "id": "8e479875",
   "metadata": {},
   "outputs": [],
   "source": [
    "start_year = 2008\n",
    "end_year = 2023\n",
    "url_reference = \"https://www.basketball-reference.com/draft/\"\n",
    "# cols = ['pick_overall', 'team_id', 'player', 'college_name', 'seasons', 'g', 'mp', 'pts', 'trb', 'ast', 'fg_pct', 'fg3_pct', 'ft_pct', 'mp_per_g',\n",
    "#        'pts_per_g', 'trb_per_g', 'ast_per_g', 'ws', 'ws_per_48', 'bpm', 'vorp']\n",
    "dfDraftInfo : pd.DataFrame = None\n",
    "path = \"./data/draftdata.csv\""
   ]
  },
  {
   "cell_type": "markdown",
   "id": "f3cfbb60",
   "metadata": {},
   "source": [
    "Table found on page html with id = \"stats\""
   ]
  },
  {
   "cell_type": "code",
   "execution_count": 218,
   "id": "ee31e222",
   "metadata": {},
   "outputs": [],
   "source": [
    "def get_table(soup: BeautifulSoup, year : int):\n",
    "    df_cur_yr = None\n",
    "    \n",
    "    table = soup.find('table', {'id': 'stats'})\n",
    "    \n",
    "    if table is not None:\n",
    "        rows = table.find_all('tr')\n",
    "\n",
    "        for row in rows:\n",
    "            data = row.find_all('td')\n",
    "\n",
    "            player_data_dict = {}\n",
    "            for d in data:\n",
    "                datatype = d.get('data-stat')\n",
    "\n",
    "                if datatype is not None:\n",
    "                    # get contents\n",
    "                    content = d.text.strip()\n",
    "                    player_data_dict[str(datatype)] = str(content)\n",
    "\n",
    "            # check for non empty row\n",
    "            if len(player_data_dict.keys()) != 0:\n",
    "                player_data_dict[\"year\"] = year\n",
    "                if df_cur_yr is not None:    \n",
    "                    # keep adding\n",
    "                    temp_df = pd.DataFrame([player_data_dict])\n",
    "                    df_cur_yr = pd.concat([df_cur_yr, temp_df], axis = 0)\n",
    "                    pass\n",
    "                else:\n",
    "                    # not empty\n",
    "                    df_cur_yr = pd.DataFrame([player_data_dict])\n",
    "                    pass\n",
    "\n",
    "    return df_cur_yr.reset_index(drop=True)"
   ]
  },
  {
   "cell_type": "markdown",
   "id": "e7ff763f",
   "metadata": {},
   "source": [
    "Go through every year between the start_year and the end_year and save in a csv file so we don't need to run this more once"
   ]
  },
  {
   "cell_type": "code",
   "execution_count": 219,
   "id": "3e875044",
   "metadata": {},
   "outputs": [],
   "source": [
    "def scrape_draft(): \n",
    "    success = True\n",
    "\n",
    "    for year in range(start_year, end_year+1):\n",
    "        url = url_reference + \"NBA_\" + str(year) + \".html\"\n",
    "        response = requests.get(url)\n",
    "        print(year)\n",
    "\n",
    "        # successful get\n",
    "        if response.status_code == 200:\n",
    "            soup = BeautifulSoup(response.text, \"html.parser\")\n",
    "\n",
    "            df = get_table(soup, year)\n",
    "            if dfDraftInfo is None:\n",
    "                dfDraftInfo = df\n",
    "            else:\n",
    "                dfDraftInfo = pd.concat([dfDraftInfo, df]).reset_index(drop = True)\n",
    "        else: \n",
    "            print(\"Unsuccessful Get request\")\n",
    "            success = False\n",
    "            break\n",
    "\n",
    "        # delay scraping\n",
    "        time.sleep(2)\n",
    "\n",
    "    # save data from scrape\n",
    "    if success:\n",
    "        dfDraftInfo.to_csv(path, index = False)"
   ]
  },
  {
   "cell_type": "markdown",
   "id": "1d21c3e0",
   "metadata": {},
   "source": [
    "### Filtering"
   ]
  },
  {
   "cell_type": "markdown",
   "id": "c79b47b3",
   "metadata": {},
   "source": [
    "Filter the data, get rid of the NA rows (forfeited)"
   ]
  },
  {
   "cell_type": "code",
   "execution_count": 220,
   "id": "8879c5d0",
   "metadata": {},
   "outputs": [],
   "source": [
    "df_draft = pd.read_csv(path)\n",
    "df_draft = df_draft.dropna(subset=['pick_overall'])"
   ]
  },
  {
   "cell_type": "markdown",
   "id": "fec6d9df",
   "metadata": {},
   "source": [
    "Filter so that only the lottery picks are in the dataframe"
   ]
  },
  {
   "cell_type": "code",
   "execution_count": 221,
   "id": "03e560de",
   "metadata": {},
   "outputs": [],
   "source": [
    "df_draft = df_draft[df_draft['pick_overall'] < 15]"
   ]
  },
  {
   "cell_type": "markdown",
   "id": "3e5fab7c",
   "metadata": {},
   "source": [
    "### Get pre-NBA stats for CBB players"
   ]
  },
  {
   "cell_type": "code",
   "execution_count": 222,
   "id": "babcea0a",
   "metadata": {},
   "outputs": [],
   "source": [
    "url_reference = \"https://www.sports-reference.com/cbb/players/anthony-davis-5.html\""
   ]
  },
  {
   "cell_type": "markdown",
   "id": "60406ace",
   "metadata": {},
   "source": [
    "Get the list of names of players in the dataframe that went to college with their corresponding colleges"
   ]
  },
  {
   "cell_type": "code",
   "execution_count": 223,
   "id": "2c09e867",
   "metadata": {},
   "outputs": [],
   "source": [
    "def get_cbb_players():\n",
    "    df_cbb_players = df_draft.dropna(subset=['college_name'])\n",
    "    return df_cbb_players\n",
    "\n",
    "df_cbb_players = get_cbb_players()"
   ]
  },
  {
   "cell_type": "code",
   "execution_count": 224,
   "id": "f7efd9b6",
   "metadata": {},
   "outputs": [],
   "source": [
    "import unicodedata\n",
    "import re\n",
    "\n",
    "def split_name(name : str):\n",
    "    def strip_non_alphanumeric(s):\n",
    "        pattern = re.compile(r'[\\W_]+')\n",
    "        return pattern.sub('', s)\n",
    "    \n",
    "    names = name.split(\" \")\n",
    "    first_name = names[0]\n",
    "    last_names = names[1:]\n",
    "\n",
    "    first_name = strip_non_alphanumeric(first_name)\n",
    "    for l in last_names:\n",
    "        strip_non_alphanumeric(l)\n",
    "\n",
    "    return first_name, last_names\n"
   ]
  },
  {
   "cell_type": "code",
   "execution_count": 225,
   "id": "eea58089",
   "metadata": {},
   "outputs": [
    {
     "name": "stdout",
     "output_type": "stream",
     "text": [
      "Otto ['Porter', 'Jr.']\n",
      "Dennis ['Smith', 'Jr.']\n",
      "Marvin ['Bagley', 'III']\n",
      "Jaren ['Jackson', 'Jr.']\n",
      "Wendell ['Carter', 'Jr.']\n",
      "Michael ['Porter', 'Jr.']\n",
      "Kira ['Lewis', 'Jr.']\n",
      "Jabari ['Smith', 'Jr.']\n",
      "Dereck ['Lively', 'II']\n"
     ]
    }
   ],
   "source": [
    "def scrape_cbb_stats():\n",
    "    for index, row in df_cbb_players.iterrows():\n",
    "        name = row['player']\n",
    "        team = row['college_name']\n",
    "\n",
    "        first_name, last_name = split_name(name)\n",
    "        \n",
    "        if len(last_name) != 1:\n",
    "            print(first_name, last_name)\n",
    "\n",
    "scrape_cbb_stats()"
   ]
  },
  {
   "cell_type": "code",
   "execution_count": null,
   "id": "638073a0",
   "metadata": {},
   "outputs": [],
   "source": []
  },
  {
   "cell_type": "code",
   "execution_count": null,
   "id": "46ed3d4a",
   "metadata": {},
   "outputs": [],
   "source": []
  }
 ],
 "metadata": {
  "kernelspec": {
   "display_name": "Python 3",
   "language": "python",
   "name": "python3"
  },
  "language_info": {
   "codemirror_mode": {
    "name": "ipython",
    "version": 3
   },
   "file_extension": ".py",
   "mimetype": "text/x-python",
   "name": "python",
   "nbconvert_exporter": "python",
   "pygments_lexer": "ipython3",
   "version": "3.11.9"
  }
 },
 "nbformat": 4,
 "nbformat_minor": 5
}
