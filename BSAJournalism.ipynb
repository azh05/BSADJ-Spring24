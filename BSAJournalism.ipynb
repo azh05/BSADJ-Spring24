{
 "cells": [
  {
   "cell_type": "markdown",
   "id": "f3df4b25",
   "metadata": {},
   "source": [
    "# BSA Data Journalism Spring 2024"
   ]
  },
  {
   "cell_type": "markdown",
   "id": "2f32788a",
   "metadata": {},
   "source": [
    "## Data scraping"
   ]
  },
  {
   "cell_type": "code",
   "execution_count": 170,
   "id": "621f9a83",
   "metadata": {},
   "outputs": [],
   "source": [
    "import pandas as pd\n",
    "import numpy as np\n",
    "from bs4 import BeautifulSoup\n",
    "import requests\n",
    "import time\n",
    "import os"
   ]
  },
  {
   "cell_type": "markdown",
   "id": "e40f634a",
   "metadata": {},
   "source": [
    "### Finding draft picks with basketball-reference\n",
    "Defining start/end year and finding viable urls"
   ]
  },
  {
   "cell_type": "code",
   "execution_count": 171,
   "id": "8e479875",
   "metadata": {},
   "outputs": [],
   "source": [
    "start_year = 2008\n",
    "end_year = 2023\n",
    "url_reference = \"https://www.basketball-reference.com/draft/\"\n",
    "# cols = ['pick_overall', 'team_id', 'player', 'college_name', 'seasons', 'g', 'mp', 'pts', 'trb', 'ast', 'fg_pct', 'fg3_pct', 'ft_pct', 'mp_per_g',\n",
    "#        'pts_per_g', 'trb_per_g', 'ast_per_g', 'ws', 'ws_per_48', 'bpm', 'vorp']\n",
    "dfDraftInfo : pd.DataFrame = None\n",
    "path = \"./data/draftdata.csv\""
   ]
  },
  {
   "cell_type": "markdown",
   "id": "f3cfbb60",
   "metadata": {},
   "source": [
    "Table found on page html with id = \"stats\""
   ]
  },
  {
   "cell_type": "code",
   "execution_count": 172,
   "id": "ee31e222",
   "metadata": {},
   "outputs": [],
   "source": [
    "def get_table(soup: BeautifulSoup, year : int):\n",
    "    df_cur_yr = None\n",
    "    \n",
    "    table = soup.find('table', {'id': 'stats'})\n",
    "    \n",
    "    if table is not None:\n",
    "        rows = table.find_all('tr')\n",
    "\n",
    "        for row in rows:\n",
    "            data = row.find_all('td')\n",
    "\n",
    "            player_data_dict = {}\n",
    "            for d in data:\n",
    "                datatype = d.get('data-stat')\n",
    "\n",
    "                if datatype is not None:\n",
    "                    # get contents\n",
    "                    content = d.text.strip()\n",
    "                    player_data_dict[str(datatype)] = str(content)\n",
    "\n",
    "            # check for non empty row\n",
    "            if len(player_data_dict.keys()) != 0:\n",
    "                player_data_dict[\"year\"] = year\n",
    "                if df_cur_yr is not None:    \n",
    "                    # keep adding\n",
    "                    temp_df = pd.DataFrame([player_data_dict])\n",
    "                    df_cur_yr = pd.concat([df_cur_yr, temp_df], axis = 0)\n",
    "                    pass\n",
    "                else:\n",
    "                    # not empty\n",
    "                    df_cur_yr = pd.DataFrame([player_data_dict])\n",
    "                    pass\n",
    "\n",
    "    return df_cur_yr.reset_index(drop=True)"
   ]
  },
  {
   "cell_type": "markdown",
   "id": "e7ff763f",
   "metadata": {},
   "source": [
    "Go through every year between the start_year and the end_year and save in a csv file so we don't need to run this more once"
   ]
  },
  {
   "cell_type": "code",
   "execution_count": 173,
   "id": "3e875044",
   "metadata": {},
   "outputs": [],
   "source": [
    "def scrape_draft(): \n",
    "    success = True\n",
    "\n",
    "    for year in range(start_year, end_year+1):\n",
    "        url = url_reference + \"NBA_\" + str(year) + \".html\"\n",
    "        response = requests.get(url)\n",
    "        print(year)\n",
    "\n",
    "        # successful get\n",
    "        if response.status_code == 200:\n",
    "            soup = BeautifulSoup(response.text, \"html.parser\")\n",
    "\n",
    "            df = get_table(soup, year)\n",
    "            if dfDraftInfo is None:\n",
    "                dfDraftInfo = df\n",
    "            else:\n",
    "                dfDraftInfo = pd.concat([dfDraftInfo, df]).reset_index(drop = True)\n",
    "        else: \n",
    "            print(\"Unsuccessful Get request\")\n",
    "            success = False\n",
    "            break\n",
    "\n",
    "        # delay scraping\n",
    "        time.sleep(2)\n",
    "\n",
    "    # save data from scrape\n",
    "    if success:\n",
    "        dfDraftInfo.to_csv(path, index = False)"
   ]
  },
  {
   "cell_type": "markdown",
   "id": "1d21c3e0",
   "metadata": {},
   "source": [
    "### Filtering"
   ]
  },
  {
   "cell_type": "markdown",
   "id": "c79b47b3",
   "metadata": {},
   "source": [
    "Filter the data, get rid of the NA rows (forfeited)"
   ]
  },
  {
   "cell_type": "code",
   "execution_count": 174,
   "id": "8879c5d0",
   "metadata": {},
   "outputs": [],
   "source": [
    "df_draft = pd.read_csv(path)\n",
    "df_draft = df_draft.dropna(subset=['pick_overall'])"
   ]
  },
  {
   "cell_type": "markdown",
   "id": "fec6d9df",
   "metadata": {},
   "source": [
    "Filter so that only the lottery picks are in the dataframe"
   ]
  },
  {
   "cell_type": "code",
   "execution_count": 175,
   "id": "03e560de",
   "metadata": {},
   "outputs": [],
   "source": [
    "df_draft = df_draft[df_draft['pick_overall'] < 15]"
   ]
  },
  {
   "cell_type": "markdown",
   "id": "3e5fab7c",
   "metadata": {},
   "source": [
    "### Get pre-NBA stats for CBB players\n",
    "Using sports-reference.com"
   ]
  },
  {
   "cell_type": "code",
   "execution_count": 176,
   "id": "babcea0a",
   "metadata": {},
   "outputs": [],
   "source": [
    "url_reference = \"https://www.sports-reference.com/cbb/players/anthony-davis-5.html\""
   ]
  },
  {
   "cell_type": "markdown",
   "id": "60406ace",
   "metadata": {},
   "source": [
    "Get the list of names of players in the dataframe that went to college with their corresponding colleges"
   ]
  },
  {
   "cell_type": "code",
   "execution_count": 265,
   "id": "2c09e867",
   "metadata": {},
   "outputs": [],
   "source": [
    "def get_cbb_players():\n",
    "    df_cbb_players = df_draft.dropna(subset=['college_name'])\n",
    "    return df_cbb_players\n",
    "\n",
    "df_cbb_players = get_cbb_players()"
   ]
  },
  {
   "cell_type": "code",
   "execution_count": 178,
   "id": "f7efd9b6",
   "metadata": {},
   "outputs": [],
   "source": [
    "import unicodedata\n",
    "import re\n",
    "\n",
    "def split_name(name : str):\n",
    "    def strip_non_alphanumeric(s):\n",
    "        pattern = re.compile(r'[^\\w-]+')\n",
    "        return pattern.sub('', s)\n",
    "    \n",
    "    names = name.split(\" \")\n",
    "    first_name = names[0]\n",
    "    last_names = names[1:]\n",
    "\n",
    "    first_name = strip_non_alphanumeric(first_name)\n",
    "    last_names = [strip_non_alphanumeric(l).lower() for l in last_names]\n",
    "\n",
    "    return first_name.lower(), last_names\n"
   ]
  },
  {
   "cell_type": "markdown",
   "id": "4c78870f",
   "metadata": {},
   "source": [
    "Players with more than one word last names, \n",
    "Otto ['Porter', 'Jr.']\n",
    "Dennis ['Smith', 'Jr.']\n",
    "Marvin ['Bagley', 'III']\n",
    "Jaren ['Jackson', 'Jr.']\n",
    "Wendell ['Carter', 'Jr.']\n",
    "Michael ['Porter', 'Jr.']\n",
    "Kira ['Lewis', 'Jr.']\n",
    "Jabari ['Smith', 'Jr.']\n",
    "Dereck ['Lively', 'II']"
   ]
  },
  {
   "cell_type": "code",
   "execution_count": 179,
   "id": "596c9fa5",
   "metadata": {},
   "outputs": [],
   "source": [
    "# links of players with last names that don't follow the pattern\n",
    "urls = {\n",
    "    \"otto\" : \"https://www.sports-reference.com/cbb/players/otto-porter-1.html\",\n",
    "    \"dennis\" : \"https://www.sports-reference.com/cbb/players/dennis-smithjr-1.html\",\n",
    "    \"marvin\" : \"https://www.sports-reference.com/cbb/players/marvin-bagleyiii-1.html\",\n",
    "    \"jaren\" : \"https://www.sports-reference.com/cbb/players/jaren-jacksonjr-1.html\",\n",
    "    \"wendell\" : \"https://www.sports-reference.com/cbb/players/wendell-carterjr-1.html\",\n",
    "    \"michael\" : \"https://www.sports-reference.com/cbb/players/michael-porterjr-1.html\",\n",
    "    \"kira\" : \"https://www.sports-reference.com/cbb/players/kira-lewisjr-1.html\",\n",
    "    \"jabari\" : \"https://www.sports-reference.com/cbb/players/jabari-smith-2.html\",\n",
    "    \"dereck\" :  \"https://www.sports-reference.com/cbb/players/dereck-lively-ii-1.html\",\n",
    "}"
   ]
  },
  {
   "cell_type": "code",
   "execution_count": 180,
   "id": "b5b75e8d",
   "metadata": {},
   "outputs": [],
   "source": [
    "df_cbb_stats : pd.DataFrame = None"
   ]
  },
  {
   "cell_type": "code",
   "execution_count": 181,
   "id": "39b07e2b",
   "metadata": {},
   "outputs": [],
   "source": [
    "def scrape_helper(url : str, name : str):\n",
    "    df : pd.DataFrame = None\n",
    "    response = requests.get(url)\n",
    "\n",
    "    if response.status_code == 200:\n",
    "        soup = BeautifulSoup(response.text, \"html.parser\")\n",
    "        table = soup.find('table', {'id': 'players_per_game'})\n",
    "\n",
    "        if table is not None:\n",
    "            rows = table.find_all('tr')\n",
    "\n",
    "            for row in rows:\n",
    "                data = row.find_all('td')\n",
    "\n",
    "                player_data_dict = {}\n",
    "                for d in data:\n",
    "                    datatype = d.get('data-stat')\n",
    "\n",
    "                    if datatype is not None:\n",
    "                        # get contents\n",
    "                        content = d.text.strip()\n",
    "                        player_data_dict[str(datatype)] = str(content)\n",
    "\n",
    "        player_data_dict['player'] = name\n",
    "        df = pd.DataFrame([player_data_dict])\n",
    "    else:\n",
    "        print(\"Bad Response Status Code\", response.status_code)\n",
    "        return None\n",
    "    \n",
    "    return df"
   ]
  },
  {
   "cell_type": "code",
   "execution_count": 182,
   "id": "eea58089",
   "metadata": {},
   "outputs": [],
   "source": [
    "def scrape_cbb_stats():\n",
    "    df_all : pd.DataFrame = None\n",
    "\n",
    "    for index, row in df_cbb_players.iterrows():\n",
    "        name = row['player']\n",
    "        team = row['college_name']\n",
    "\n",
    "        first_name, last_name = split_name(name)\n",
    "        team = team.split(\" \")[0]\n",
    "        \n",
    "        url = \"\"\n",
    "        if len(last_name) != 1:\n",
    "            url = urls[first_name]\n",
    "        else: \n",
    "            # bam adebayo is named edrice\n",
    "            if first_name == 'bam':\n",
    "                first_name = 'edrice'\n",
    "            # mo bamba is named mohamed\n",
    "            elif first_name == \"mo\":\n",
    "                first_name = 'mohamed'\n",
    "            # ja morant is named temetrius\n",
    "            elif first_name == \"ja\":\n",
    "                first_name = 'temetrius'\n",
    "            # obi toppin is named obadiah\n",
    "            elif first_name == \"obi\":\n",
    "                first_name = \"obadiah\"\n",
    "            # shaedon sharpe doesn't qualify\n",
    "            elif first_name == \"shaedon\":\n",
    "                continue\n",
    "            # johnny davis is named johnny\n",
    "            elif first_name == \"johnny\":\n",
    "                first_name = \"jonathan\"\n",
    "\n",
    "            last_name = last_name[0]\n",
    "            for i in range(1, 15):\n",
    "\n",
    "                attempts = 0\n",
    "                correct_url = False\n",
    "                while attempts < 3:\n",
    "                    # to check for the correct player (by team), for example anthony-davis-5, not anthony-davis-4\n",
    "                    url = f\"https://www.sports-reference.com/cbb/players/{first_name}-{last_name}-{i}.html\" \n",
    "                    response = requests.get(url)\n",
    "                    \n",
    "                    if response.status_code == 200:\n",
    "                        print(team)\n",
    "                        soup = BeautifulSoup(response.text, \"html.parser\")\n",
    "                        school_name_elements = soup.find_all(attrs={\"data-stat\": \"school_name\"})\n",
    "\n",
    "                        correct_url = any(team in element.get_text() for element in school_name_elements)\n",
    "                    else:\n",
    "                        print(\"Bad Response Status Code\", response.status_code)\n",
    "                        time.sleep(2)\n",
    "                        \n",
    "                    if correct_url:\n",
    "                        break\n",
    "\n",
    "                    time.sleep(2)\n",
    "                    \n",
    "                    attempts += 1\n",
    "            \n",
    "                if correct_url:\n",
    "                    break\n",
    "        \n",
    "        if len(url) != 0:\n",
    "            df = scrape_helper(url, name)\n",
    "            while df is None:\n",
    "                time.sleep(2)\n",
    "                df = scrape_helper(url, name)\n",
    "            \n",
    "            if df_all is None:\n",
    "                df_all = df\n",
    "            else: \n",
    "                df_all = pd.concat([df_all, df]).reset_index(drop = True)\n",
    "        else:\n",
    "            print(\"URL not found\")\n",
    "\n",
    "        time.sleep(5)\n",
    "\n",
    "    return df_all"
   ]
  },
  {
   "cell_type": "code",
   "execution_count": 183,
   "id": "466e5aec",
   "metadata": {},
   "outputs": [],
   "source": [
    "# df_cbb_stats = scrape_cbb_stats()\n",
    "path2 = './data/cbbdata.csv'\n",
    "# df_cbb_stats.to_csv(path2, index=False)\n"
   ]
  },
  {
   "cell_type": "markdown",
   "id": "d7b57e66",
   "metadata": {},
   "source": [
    "Delete unnecessary columns"
   ]
  },
  {
   "cell_type": "code",
   "execution_count": 187,
   "id": "8f6048c4",
   "metadata": {},
   "outputs": [],
   "source": [
    "df_cbb_stats = pd.read_csv(path2)\n",
    "\n",
    "drop_cols = [\n",
    "    'conf_abbr', \n",
    "    'class', \n",
    "    'sos-dum',\n",
    "    'sos'\n",
    "]\n",
    "\n",
    "df_cbb_stats = df_cbb_stats.drop(drop_cols, axis = 1)"
   ]
  },
  {
   "cell_type": "markdown",
   "id": "ee96a66e",
   "metadata": {},
   "source": [
    "### Scraping shot selection from barttorvik.com"
   ]
  },
  {
   "cell_type": "markdown",
   "id": "9f80e4bc",
   "metadata": {},
   "source": [
    "Shot selection data only exists from 2010 onwards, must filter out 2008-2009\n",
    "\n",
    "Also no data on players with less than 10 games\n",
    "- Darius Garland\n",
    "- Michael Porter Jr\n",
    "- James Wiseman"
   ]
  },
  {
   "cell_type": "code",
   "execution_count": 185,
   "id": "60b65ede",
   "metadata": {},
   "outputs": [],
   "source": [
    "url_reference = \"https://barttorvik.com/playerstat.php?year=2016&p=Jaylen%20Brown\""
   ]
  },
  {
   "cell_type": "code",
   "execution_count": 281,
   "id": "61f8dfb2",
   "metadata": {},
   "outputs": [],
   "source": [
    "df_cbb_players = df_cbb_players.reset_index(drop = True)\n",
    "df_cbb_players = df_cbb_players[df_cbb_players['year'] >= 2010]\n",
    "\n",
    "not_qualified = [\"Michael Porter Jr.\", \"Darius Garland\", \"James Wiseman\"]\n",
    "df_cbb_players = df_cbb_players[~df_cbb_players['player'].isin(not_qualified)]\n",
    "\n",
    "df_shot_selection : pd.DataFrame = None"
   ]
  },
  {
   "cell_type": "markdown",
   "id": "bfd492fd",
   "metadata": {},
   "source": [
    "Correct table has headers \"DUNKS\", \"At the rim\", \"Other 2-PT\", \"3-Pt Jumpers\""
   ]
  },
  {
   "cell_type": "code",
   "execution_count": 282,
   "id": "496e972b",
   "metadata": {},
   "outputs": [],
   "source": [
    "def has_desired_headers(headers):\n",
    "    desired_headers = [\"DUNKS\", \"AT THE RIM\", \"OTHER 2-PT\", \"3-PT JUMPERS\"]\n",
    "    for header in desired_headers:\n",
    "        if header.lower() not in headers.lower():\n",
    "            return False\n",
    "    return True"
   ]
  },
  {
   "cell_type": "code",
   "execution_count": 283,
   "id": "a3177ead",
   "metadata": {},
   "outputs": [],
   "source": [
    "shot_stat_headers = ['dunk_tot', 'dunk_pct', \n",
    "                     'rim_tot', 'rim_pct', 'rim_asted', \n",
    "                     'other2pt_tot', 'other2pt_pct', 'other2pt_asted', \n",
    "                     '3pt_tot', '3pt_pct', '3pt_asted']\n",
    "\n",
    "shot_urls = {\n",
    "    \"otto\" : \"https://barttorvik.com/playerstat.php?year=2013&p=Otto%20Porter&t=Georgetown\",\n",
    "    \"dennis\" : \"https://barttorvik.com/playerstat.php?year=2017&p=Dennis%20Smith%2C%20Jr.&t=North%20Carolina%20St.\",\n",
    "    \"marvin\" : \"https://barttorvik.com/playerstat.php?year=2018&p=Marvin%20Bagley%20III&t=Duke\",\n",
    "    \"jaren\" : \"https://barttorvik.com/playerstat.php?year=2018&p=Jaren%20Jackson%20Jr.&t=Michigan%20St.\",\n",
    "    \"wendell\" : \"https://barttorvik.com/playerstat.php?year=2018&p=Wendell%20Carter%20Jr.&t=Duke\",\n",
    "    \"kira\" : \"https://barttorvik.com/playerstat.php?year=2020&p=Kira%20Lewis%20Jr.&t=Alabama\",\n",
    "    \"jabari\" : \"https://barttorvik.com/playerstat.php?year=2022&p=Jabari%20Smith&t=Auburn\",\n",
    "    \"dereck\" :  \"https://barttorvik.com/playerstat.php?year=2023&p=Dereck%20Lively%20II&t=Duke\",\n",
    "}"
   ]
  },
  {
   "cell_type": "code",
   "execution_count": 284,
   "id": "14d7bb49",
   "metadata": {},
   "outputs": [],
   "source": [
    "# doesn't remove the period at the end of the names\n",
    "def split_name2(name : str):\n",
    "    def strip_non_alphanumeric(s):\n",
    "        pattern = re.compile(r'[^.\\w-]+')\n",
    "        return pattern.sub('', s)\n",
    "    \n",
    "    names = name.split(\" \")\n",
    "    first_name = names[0]\n",
    "    last_names = names[1:]\n",
    "\n",
    "    first_name = strip_non_alphanumeric(first_name)\n",
    "    last_names = [strip_non_alphanumeric(l).lower() for l in last_names]\n",
    "\n",
    "    return first_name.lower(), last_names"
   ]
  },
  {
   "cell_type": "code",
   "execution_count": 308,
   "id": "e22a0ea5",
   "metadata": {},
   "outputs": [],
   "source": [
    "def scrape_shot_selection():\n",
    "    df : pd.DataFrame = None\n",
    "\n",
    "    for index, row in df_cbb_players.iterrows():\n",
    "        name = row['player']\n",
    "        year = row['year']\n",
    "        first_name, last_name = split_name2(name)\n",
    "\n",
    "        url = \"\"\n",
    "\n",
    "        if first_name == 'cj':\n",
    "            first_name = \"c.j.\"\n",
    "        if first_name == 'dangelo':\n",
    "            first_name = \"D%27Angelo\"\n",
    "        if first_name == 'deaaron':\n",
    "            first_name = 'De%27Aaron'\n",
    "        if first_name == 'bam':\n",
    "            first_name = 'edrice'\n",
    "        if first_name == 'mo':\n",
    "            first_name = \"mohamed\"\n",
    "        if first_name == 'rj':\n",
    "            first_name = \"r.j.\"\n",
    "        if first_name == 'deandre' and last_name[0] != \"ayton\":\n",
    "            first_name = \"De%27andre\"\n",
    "        if first_name == \"p.j.\" and last_name[0] == \"washington\":\n",
    "            first_name = \"pj\"\n",
    "        if first_name == \"shaedon\":\n",
    "            continue\n",
    "\n",
    "        if len(last_name) == 1:\n",
    "            last_name = last_name[0]\n",
    "            url = f\"https://barttorvik.com/playerstat.php?year={year}&p={first_name}%20{last_name}\"\n",
    "        else:\n",
    "            url = shot_urls[first_name]\n",
    "\n",
    "        print(url)\n",
    "        response = requests.get(url)\n",
    "\n",
    "        if response.status_code == 200:\n",
    "            soup = BeautifulSoup(response.text, \"html.parser\")\n",
    "            \n",
    "            tables = soup.find_all('table')\n",
    "            filtered_table = [table for table in tables if has_desired_headers(table.find('thead').text)][0]\n",
    "            \n",
    "            tds = filtered_table.find_all('td')\n",
    "\n",
    "            shot_stat_dict = {}\n",
    "            shot_stat_dict['player'] = name\n",
    "            i = 0\n",
    "            for td in tds:\n",
    "                header = shot_stat_headers[i]\n",
    "                shot_stat_dict[header] = td.text\n",
    "                i+=1\n",
    "\n",
    "            df_temp = pd.DataFrame([shot_stat_dict])\n",
    "            if df is None:\n",
    "                df = df_temp\n",
    "            else: \n",
    "                df = pd.concat([df, df_temp]).reset_index(drop = True)\n",
    "        else:\n",
    "            print(\"Bad Request: \", response.status_code)\n",
    "            break\n",
    "        time.sleep(5)\n",
    "\n",
    "    return df\n"
   ]
  },
  {
   "cell_type": "code",
   "execution_count": null,
   "id": "bf9ce192",
   "metadata": {},
   "outputs": [],
   "source": [
    "# df_shot_selection = scrape_shot_selection()"
   ]
  },
  {
   "cell_type": "code",
   "execution_count": 312,
   "id": "295259f3",
   "metadata": {},
   "outputs": [],
   "source": [
    "path = \"./data/shotdata.csv\"\n",
    "# df_shot_selection.to_csv(path, index = False)"
   ]
  },
  {
   "cell_type": "code",
   "execution_count": 313,
   "id": "0f120b1e",
   "metadata": {},
   "outputs": [],
   "source": [
    "df_shot_selection = pd.read_csv(path)"
   ]
  },
  {
   "cell_type": "code",
   "execution_count": null,
   "id": "b1625816",
   "metadata": {},
   "outputs": [],
   "source": []
  }
 ],
 "metadata": {
  "kernelspec": {
   "display_name": "Python 3",
   "language": "python",
   "name": "python3"
  },
  "language_info": {
   "codemirror_mode": {
    "name": "ipython",
    "version": 3
   },
   "file_extension": ".py",
   "mimetype": "text/x-python",
   "name": "python",
   "nbconvert_exporter": "python",
   "pygments_lexer": "ipython3",
   "version": "3.11.9"
  }
 },
 "nbformat": 4,
 "nbformat_minor": 5
}
