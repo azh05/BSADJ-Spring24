{
 "cells": [
  {
   "cell_type": "markdown",
   "id": "f3df4b25",
   "metadata": {},
   "source": [
    "# BSA Data Journalism Spring 2024"
   ]
  },
  {
   "cell_type": "markdown",
   "id": "2f32788a",
   "metadata": {},
   "source": [
    "## Data scraping"
   ]
  },
  {
   "cell_type": "code",
   "execution_count": 181,
   "id": "621f9a83",
   "metadata": {},
   "outputs": [],
   "source": [
    "import pandas as pd\n",
    "import numpy as np\n",
    "from bs4 import BeautifulSoup\n",
    "import requests\n",
    "import time\n",
    "import os"
   ]
  },
  {
   "cell_type": "markdown",
   "id": "e40f634a",
   "metadata": {},
   "source": [
    "Defining start/end year and finding viable urls"
   ]
  },
  {
   "cell_type": "code",
   "execution_count": 187,
   "id": "8e479875",
   "metadata": {},
   "outputs": [],
   "source": [
    "start_year = 2008\n",
    "end_year = 2023\n",
    "url_reference = \"https://www.basketball-reference.com/draft/\"\n",
    "# cols = ['pick_overall', 'team_id', 'player', 'college_name', 'seasons', 'g', 'mp', 'pts', 'trb', 'ast', 'fg_pct', 'fg3_pct', 'ft_pct', 'mp_per_g',\n",
    "#        'pts_per_g', 'trb_per_g', 'ast_per_g', 'ws', 'ws_per_48', 'bpm', 'vorp']\n",
    "dfDraftInfo : pd.DataFrame = None\n",
    "path = \"./data/draftdata.csv\""
   ]
  },
  {
   "cell_type": "markdown",
   "id": "f3cfbb60",
   "metadata": {},
   "source": [
    "Table found on page html with id = \"stats\""
   ]
  },
  {
   "cell_type": "code",
   "execution_count": 183,
   "id": "ee31e222",
   "metadata": {},
   "outputs": [],
   "source": [
    "def get_table(soup: BeautifulSoup, year : int):\n",
    "    df_cur_yr = None\n",
    "    \n",
    "    table = soup.find('table', {'id': 'stats'})\n",
    "    \n",
    "    if table is not None:\n",
    "        rows = table.find_all('tr')\n",
    "\n",
    "        for row in rows:\n",
    "            data = row.find_all('td')\n",
    "\n",
    "            player_data_dict = {}\n",
    "            for d in data:\n",
    "                datatype = d.get('data-stat')\n",
    "\n",
    "                if datatype is not None:\n",
    "                    # get contents\n",
    "                    content = d.text.strip()\n",
    "                    player_data_dict[str(datatype)] = str(content)\n",
    "\n",
    "            # check for non empty row\n",
    "            if len(player_data_dict.keys()) != 0:\n",
    "                player_data_dict[\"year\"] = year\n",
    "                if df_cur_yr is not None:    \n",
    "                    # keep adding\n",
    "                    temp_df = pd.DataFrame([player_data_dict])\n",
    "                    df_cur_yr = pd.concat([df_cur_yr, temp_df], axis = 0)\n",
    "                    pass\n",
    "                else:\n",
    "                    # not empty\n",
    "                    df_cur_yr = pd.DataFrame([player_data_dict])\n",
    "                    pass\n",
    "\n",
    "    return df_cur_yr.reset_index(drop=True)"
   ]
  },
  {
   "cell_type": "markdown",
   "id": "e7ff763f",
   "metadata": {},
   "source": [
    "Go through every year between the start_year and the end_year and save in a csv file so we don't need to run this more once"
   ]
  },
  {
   "cell_type": "code",
   "execution_count": 185,
   "id": "3e875044",
   "metadata": {},
   "outputs": [],
   "source": [
    "def scrape_draft(): \n",
    "    success = True\n",
    "\n",
    "    for year in range(start_year, end_year+1):\n",
    "        url = url_reference + \"NBA_\" + str(year) + \".html\"\n",
    "        response = requests.get(url)\n",
    "        print(year)\n",
    "\n",
    "        # successful get\n",
    "        if response.status_code == 200:\n",
    "            soup = BeautifulSoup(response.text, \"html.parser\")\n",
    "\n",
    "            df = get_table(soup, year)\n",
    "            if dfDraftInfo is None:\n",
    "                dfDraftInfo = df\n",
    "            else:\n",
    "                dfDraftInfo = pd.concat([dfDraftInfo, df]).reset_index(drop = True)\n",
    "        else: \n",
    "            print(\"Unsuccessful Get request\")\n",
    "            success = False\n",
    "            break\n",
    "\n",
    "        # delay scraping\n",
    "        time.sleep(2)\n",
    "\n",
    "    # save data from scrape\n",
    "    if success:\n",
    "        dfDraftInfo.to_csv(path, index = False)"
   ]
  },
  {
   "cell_type": "markdown",
   "id": "1d21c3e0",
   "metadata": {},
   "source": [
    "### Filtering"
   ]
  },
  {
   "cell_type": "markdown",
   "id": "c79b47b3",
   "metadata": {},
   "source": [
    "Filter the data, get rid of the NA rows (forfeited)"
   ]
  },
  {
   "cell_type": "code",
   "execution_count": 198,
   "id": "8879c5d0",
   "metadata": {},
   "outputs": [],
   "source": [
    "df_draft = pd.read_csv(path)\n",
    "df_draft = df_draft.dropna(subset=['pick_overall'])"
   ]
  },
  {
   "cell_type": "markdown",
   "id": "fec6d9df",
   "metadata": {},
   "source": [
    "Filter so that only the first round picks are in the dataframe"
   ]
  },
  {
   "cell_type": "code",
   "execution_count": 202,
   "id": "03e560de",
   "metadata": {},
   "outputs": [],
   "source": [
    "df_draft = df_draft[df_draft['pick_overall'] < 15]"
   ]
  },
  {
   "cell_type": "markdown",
   "id": "3e5fab7c",
   "metadata": {},
   "source": [
    "### Get pre-NBA stats for CBB players"
   ]
  },
  {
   "cell_type": "code",
   "execution_count": 203,
   "id": "babcea0a",
   "metadata": {},
   "outputs": [],
   "source": [
    "url_reference = \"https://www.sports-reference.com/cbb/players/anthony-davis-5.html\""
   ]
  },
  {
   "cell_type": "markdown",
   "id": "60406ace",
   "metadata": {},
   "source": [
    "Get the list of names of players in the dataframe that went to college with their corresponding colleges"
   ]
  },
  {
   "cell_type": "code",
   "execution_count": 206,
   "id": "2c09e867",
   "metadata": {},
   "outputs": [],
   "source": [
    "def get_cbb_players():\n",
    "    df_cbb_players = df_draft.dropna(subset=['college_name'])\n",
    "    return df_cbb_players\n",
    "\n",
    "df_cbb_players = get_cbb_players()"
   ]
  },
  {
   "cell_type": "code",
   "execution_count": 209,
   "id": "eea58089",
   "metadata": {},
   "outputs": [
    {
     "name": "stdout",
     "output_type": "stream",
     "text": [
      "Team: Memphis, Name: Derrick Rose\n",
      "Team: Kansas State, Name: Michael Beasley\n",
      "Team: USC, Name: O.J. Mayo\n",
      "Team: UCLA, Name: Russell Westbrook\n",
      "Team: UCLA, Name: Kevin Love\n",
      "Team: Indiana, Name: Eric Gordon\n",
      "Team: West Virginia, Name: Joe Alexander\n",
      "Team: Texas, Name: D.J. Augustin\n",
      "Team: Stanford, Name: Brook Lopez\n",
      "Team: Arizona, Name: Jerryd Bayless\n",
      "Team: Rider University, Name: Jason Thompson\n",
      "Team: Kansas, Name: Brandon Rush\n",
      "Team: LSU, Name: Anthony Randolph\n",
      "Team: Oklahoma, Name: Blake Griffin\n",
      "Team: UConn, Name: Hasheem Thabeet\n",
      "Team: Arizona State, Name: James Harden\n",
      "Team: Memphis, Name: Tyreke Evans\n",
      "Team: Syracuse, Name: Jonny Flynn\n",
      "Team: Davidson, Name: Stephen Curry\n",
      "Team: Arizona, Name: Jordan Hill\n",
      "Team: USC, Name: DeMar DeRozan\n",
      "Team: Louisville, Name: Terrence Williams\n",
      "Team: Duke, Name: Gerald Henderson\n",
      "Team: UNC, Name: Tyler Hansbrough\n",
      "Team: Louisville, Name: Earl Clark\n",
      "Team: Kentucky, Name: John Wall\n",
      "Team: Ohio State, Name: Evan Turner\n",
      "Team: Georgia Tech, Name: Derrick Favors\n",
      "Team: Syracuse, Name: Wesley Johnson\n",
      "Team: Kentucky, Name: DeMarcus Cousins\n",
      "Team: Baylor, Name: Ekpe Udoh\n",
      "Team: Georgetown, Name: Greg Monroe\n",
      "Team: Wake Forest, Name: Al-Farouq Aminu\n",
      "Team: Butler, Name: Gordon Hayward\n",
      "Team: Fresno State, Name: Paul George\n",
      "Team: Kansas, Name: Cole Aldrich\n",
      "Team: Kansas, Name: Xavier Henry\n",
      "Team: UNC, Name: Ed Davis\n",
      "Team: Kentucky, Name: Patrick Patterson\n",
      "Team: Duke, Name: Kyrie Irving\n",
      "Team: Arizona, Name: Derrick Williams\n",
      "Team: Texas, Name: Tristan Thompson\n",
      "Team: Kentucky, Name: Brandon Knight\n",
      "Team: UConn, Name: Kemba Walker\n",
      "Team: BYU, Name: Jimmer Fredette\n",
      "Team: Washington State, Name: Klay Thompson\n",
      "Team: Colorado, Name: Alec Burks\n",
      "Team: Kansas, Name: Markieff Morris\n",
      "Team: Kansas, Name: Marcus Morris\n",
      "Team: Kentucky, Name: Anthony Davis\n",
      "Team: Kentucky, Name: Michael Kidd-Gilchrist\n",
      "Team: Florida, Name: Bradley Beal\n",
      "Team: Syracuse, Name: Dion Waiters\n",
      "Team: Kansas, Name: Thomas Robinson\n",
      "Team: Weber State, Name: Damian Lillard\n",
      "Team: UNC, Name: Harrison Barnes\n",
      "Team: Washington, Name: Terrence Ross\n",
      "Team: UConn, Name: Andre Drummond\n",
      "Team: Duke, Name: Austin Rivers\n",
      "Team: Illinois, Name: Meyers Leonard\n",
      "Team: UConn, Name: Jeremy Lamb\n",
      "Team: UNC, Name: Kendall Marshall\n",
      "Team: UNC, Name: John Henson\n",
      "Team: UNLV, Name: Anthony Bennett\n",
      "Team: Indiana, Name: Victor Oladipo\n",
      "Team: Georgetown, Name: Otto Porter Jr.\n",
      "Team: Indiana, Name: Cody Zeller\n",
      "Team: Maryland, Name: Alex Len\n",
      "Team: Kentucky, Name: Nerlens Noel\n",
      "Team: Kansas, Name: Ben McLemore\n",
      "Team: Georgia, Name: Kentavious Caldwell-Pope\n",
      "Team: Michigan, Name: Trey Burke\n",
      "Team: Lehigh, Name: CJ McCollum\n",
      "Team: Syracuse, Name: Michael Carter-Williams\n",
      "Team: Pitt, Name: Steven Adams\n",
      "Team: Gonzaga, Name: Kelly Olynyk\n",
      "Team: UCLA, Name: Shabazz Muhammad\n",
      "Team: Kansas, Name: Andrew Wiggins\n",
      "Team: Duke, Name: Jabari Parker\n",
      "Team: Kansas, Name: Joel Embiid\n",
      "Team: Arizona, Name: Aaron Gordon\n",
      "Team: Oklahoma State, Name: Marcus Smart\n",
      "Team: Kentucky, Name: Julius Randle\n",
      "Team: Michigan, Name: Nik Stauskas\n",
      "Team: Indiana, Name: Noah Vonleh\n",
      "Team: Louisiana, Name: Elfrid Payton\n",
      "Team: Creighton, Name: Doug McDermott\n",
      "Team: UCLA, Name: Zach LaVine\n",
      "Team: NC State, Name: T.J. Warren\n",
      "Team: Kentucky, Name: Karl-Anthony Towns\n",
      "Team: Ohio State, Name: D'Angelo Russell\n",
      "Team: Duke, Name: Jahlil Okafor\n",
      "Team: Kentucky, Name: Willie Cauley-Stein\n",
      "Team: Arizona, Name: Stanley Johnson\n",
      "Team: Wisconsin, Name: Frank Kaminsky\n",
      "Team: Duke, Name: Justise Winslow\n",
      "Team: Texas, Name: Myles Turner\n",
      "Team: Kentucky, Name: Trey Lyles\n",
      "Team: Kentucky, Name: Devin Booker\n",
      "Team: Murray State, Name: Cameron Payne\n",
      "Team: LSU, Name: Ben Simmons\n",
      "Team: Duke, Name: Brandon Ingram\n",
      "Team: California, Name: Jaylen Brown\n",
      "Team: Providence, Name: Kris Dunn\n",
      "Team: Oklahoma, Name: Buddy Hield\n",
      "Team: Kentucky, Name: Jamal Murray\n",
      "Team: Washington, Name: Marquese Chriss\n",
      "Team: Utah, Name: Jakob Poeltl\n",
      "Team: Gonzaga, Name: Domantas Sabonis\n",
      "Team: Baylor, Name: Taurean Prince\n",
      "Team: Michigan State, Name: Denzel Valentine\n",
      "Team: Washington, Name: Markelle Fultz\n",
      "Team: UCLA, Name: Lonzo Ball\n",
      "Team: Duke, Name: Jayson Tatum\n",
      "Team: Kansas, Name: Josh Jackson\n",
      "Team: Kentucky, Name: De'Aaron Fox\n",
      "Team: Florida State, Name: Jonathan Isaac\n",
      "Team: Arizona, Name: Lauri Markkanen\n",
      "Team: NC State, Name: Dennis Smith Jr.\n",
      "Team: Gonzaga, Name: Zach Collins\n",
      "Team: Kentucky, Name: Malik Monk\n",
      "Team: Duke, Name: Luke Kennard\n",
      "Team: Louisville, Name: Donovan Mitchell\n",
      "Team: Kentucky, Name: Bam Adebayo\n",
      "Team: Arizona, Name: Deandre Ayton\n",
      "Team: Duke, Name: Marvin Bagley III\n",
      "Team: Michigan State, Name: Jaren Jackson Jr.\n",
      "Team: Oklahoma, Name: Trae Young\n",
      "Team: Texas, Name: Mo Bamba\n",
      "Team: Duke, Name: Wendell Carter Jr.\n",
      "Team: Alabama, Name: Collin Sexton\n",
      "Team: Kentucky, Name: Kevin Knox\n",
      "Team: Villanova, Name: Mikal Bridges\n",
      "Team: Kentucky, Name: Shai Gilgeous-Alexander\n",
      "Team: Michigan State, Name: Miles Bridges\n",
      "Team: Boston College, Name: Jerome Robinson\n",
      "Team: Missouri, Name: Michael Porter Jr.\n",
      "Team: Duke, Name: Zion Williamson\n",
      "Team: Murray State, Name: Ja Morant\n",
      "Team: Duke, Name: RJ Barrett\n",
      "Team: Virginia, Name: De'Andre Hunter\n",
      "Team: Vanderbilt, Name: Darius Garland\n",
      "Team: Texas Tech, Name: Jarrett Culver\n",
      "Team: UNC, Name: Coby White\n",
      "Team: Texas, Name: Jaxson Hayes\n",
      "Team: Gonzaga, Name: Rui Hachimura\n",
      "Team: Duke, Name: Cam Reddish\n",
      "Team: UNC, Name: Cameron Johnson\n",
      "Team: Kentucky, Name: P.J. Washington\n",
      "Team: Kentucky, Name: Tyler Herro\n",
      "Team: Indiana, Name: Romeo Langford\n",
      "Team: Georgia, Name: Anthony Edwards\n",
      "Team: Memphis, Name: James Wiseman\n",
      "Team: Florida State, Name: Patrick Williams\n",
      "Team: Auburn, Name: Isaac Okoro\n",
      "Team: USC, Name: Onyeka Okongwu\n",
      "Team: Dayton, Name: Obi Toppin\n",
      "Team: Maryland, Name: Jalen Smith\n",
      "Team: Florida State, Name: Devin Vassell\n",
      "Team: Iowa State, Name: Tyrese Haliburton\n",
      "Team: Alabama, Name: Kira Lewis Jr.\n",
      "Team: Vanderbilt, Name: Aaron Nesmith\n",
      "Team: Oklahoma State, Name: Cade Cunningham\n",
      "Team: USC, Name: Evan Mobley\n",
      "Team: Florida State, Name: Scottie Barnes\n",
      "Team: Gonzaga, Name: Jalen Suggs\n",
      "Team: Michigan, Name: Franz Wagner\n",
      "Team: Baylor, Name: Davion Mitchell\n",
      "Team: Stanford, Name: Ziaire Williams\n",
      "Team: UConn, Name: James Bouknight\n",
      "Team: Alabama, Name: Joshua Primo\n",
      "Team: Oregon, Name: Chris Duarte\n",
      "Team: Arkansas, Name: Moses Moody\n",
      "Team: Duke, Name: Paolo Banchero\n",
      "Team: Gonzaga, Name: Chet Holmgren\n",
      "Team: Auburn, Name: Jabari Smith Jr.\n",
      "Team: Iowa, Name: Keegan Murray\n",
      "Team: Purdue, Name: Jaden Ivey\n",
      "Team: Arizona, Name: Bennedict Mathurin\n",
      "Team: Kentucky, Name: Shaedon Sharpe\n",
      "Team: Baylor, Name: Jeremy Sochan\n",
      "Team: Wisconsin, Name: Johnny Davis\n",
      "Team: Santa Clara, Name: Jalen Williams\n",
      "Team: Memphis, Name: Jalen Duren\n",
      "Team: Kansas, Name: Ochai Agbaji\n",
      "Team: Alabama, Name: Brandon Miller\n",
      "Team: Arkansas, Name: Anthony Black\n",
      "Team: Houston, Name: Jarace Walker\n",
      "Team: Central Florida, Name: Taylor Hendricks\n",
      "Team: Kentucky, Name: Cason Wallace\n",
      "Team: Michigan, Name: Jett Howard\n",
      "Team: Duke, Name: Dereck Lively II\n",
      "Team: Kansas, Name: Gradey Dick\n",
      "Team: UConn, Name: Jordan Hawkins\n"
     ]
    }
   ],
   "source": [
    "def scrape_cbb_stats():\n",
    "    for index, row in df_cbb_players.iterrows():\n",
    "        name = row['player']\n",
    "        team = row['college_name']\n",
    "        print(f\"Team: {team}, Name: {name}\")\n",
    "\n",
    "scrape_cbb_stats()"
   ]
  },
  {
   "cell_type": "code",
   "execution_count": null,
   "id": "638073a0",
   "metadata": {},
   "outputs": [],
   "source": []
  }
 ],
 "metadata": {
  "kernelspec": {
   "display_name": "Python 3",
   "language": "python",
   "name": "python3"
  },
  "language_info": {
   "codemirror_mode": {
    "name": "ipython",
    "version": 3
   },
   "file_extension": ".py",
   "mimetype": "text/x-python",
   "name": "python",
   "nbconvert_exporter": "python",
   "pygments_lexer": "ipython3",
   "version": "3.11.9"
  }
 },
 "nbformat": 4,
 "nbformat_minor": 5
}
